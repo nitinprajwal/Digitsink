{
 "cells": [
  {
   "cell_type": "code",
   "execution_count": 5,
   "id": "d3734282-c4a7-4c79-97bd-bd3f0099d829",
   "metadata": {},
   "outputs": [
    {
     "ename": "ModuleNotFoundError",
     "evalue": "No module named 'torchvision'",
     "output_type": "error",
     "traceback": [
      "\u001b[1;31m---------------------------------------------------------------------------\u001b[0m",
      "\u001b[1;31mModuleNotFoundError\u001b[0m                       Traceback (most recent call last)",
      "\u001b[1;32me:\\CODING CODE\\python_jupyter\\DigitsInk.ipynb Cell 1\u001b[0m line \u001b[0;36m1\n\u001b[1;32m----> <a href='vscode-notebook-cell:/e%3A/CODING%20CODE/python_jupyter/DigitsInk.ipynb#W0sZmlsZQ%3D%3D?line=0'>1</a>\u001b[0m \u001b[39mfrom\u001b[39;00m \u001b[39mtorchvision\u001b[39;00m \u001b[39mimport\u001b[39;00m datasets\n\u001b[0;32m      <a href='vscode-notebook-cell:/e%3A/CODING%20CODE/python_jupyter/DigitsInk.ipynb#W0sZmlsZQ%3D%3D?line=1'>2</a>\u001b[0m \u001b[39mfrom\u001b[39;00m \u001b[39mtorchvision\u001b[39;00m\u001b[39m.\u001b[39;00m\u001b[39mtransforms\u001b[39;00m \u001b[39mimport\u001b[39;00m ToTensor\n",
      "\u001b[1;31mModuleNotFoundError\u001b[0m: No module named 'torchvision'"
     ]
    }
   ],
   "source": [
    "from torchvision import datasets\n",
    "from torchvision.transforms import ToTensor"
   ]
  },
  {
   "cell_type": "code",
   "execution_count": 2,
   "id": "4baa92a0-c84f-475d-8fde-c6a5ceb9ed53",
   "metadata": {},
   "outputs": [],
   "source": [
    "train_data = datasets.MNIST(\n",
    "    root= 'data',\n",
    "    train= True,\n",
    "    transform=ToTensor(),\n",
    "    download= True\n",
    ")\n",
    "test_data = datasets.MNIST(\n",
    "    root= 'data',\n",
    "    train= False,\n",
    "    transform=ToTensor(),\n",
    "    download= True\n",
    ")"
   ]
  },
  {
   "cell_type": "code",
   "execution_count": 3,
   "id": "d6066463-7902-4151-ab67-dd35892470b8",
   "metadata": {},
   "outputs": [
    {
     "data": {
      "text/plain": [
       "Dataset MNIST\n",
       "    Number of datapoints: 60000\n",
       "    Root location: data\n",
       "    Split: Train\n",
       "    StandardTransform\n",
       "Transform: ToTensor()"
      ]
     },
     "execution_count": 3,
     "metadata": {},
     "output_type": "execute_result"
    }
   ],
   "source": [
    "train_data"
   ]
  },
  {
   "cell_type": "code",
   "execution_count": 4,
   "id": "f2df04ee-e04d-4726-818a-6beff51357b2",
   "metadata": {},
   "outputs": [
    {
     "data": {
      "text/plain": [
       "Dataset MNIST\n",
       "    Number of datapoints: 10000\n",
       "    Root location: data\n",
       "    Split: Test\n",
       "    StandardTransform\n",
       "Transform: ToTensor()"
      ]
     },
     "execution_count": 4,
     "metadata": {},
     "output_type": "execute_result"
    }
   ],
   "source": [
    "test_data"
   ]
  },
  {
   "cell_type": "code",
   "execution_count": 5,
   "id": "6295f5c0-1288-4f7b-8021-9ecb2b40384b",
   "metadata": {},
   "outputs": [
    {
     "data": {
      "text/plain": [
       "torch.Size([10000, 28, 28])"
      ]
     },
     "execution_count": 5,
     "metadata": {},
     "output_type": "execute_result"
    }
   ],
   "source": [
    "test_data.data.shape"
   ]
  },
  {
   "cell_type": "code",
   "execution_count": 6,
   "id": "96f42cb6-3a69-4d23-9360-5f8f844eeb4d",
   "metadata": {},
   "outputs": [
    {
     "data": {
      "text/plain": [
       "torch.Size([60000])"
      ]
     },
     "execution_count": 6,
     "metadata": {},
     "output_type": "execute_result"
    }
   ],
   "source": [
    "train_data.targets.size()"
   ]
  },
  {
   "cell_type": "code",
   "execution_count": 7,
   "id": "7949a776-6271-4139-81d6-0ce2aa008db9",
   "metadata": {},
   "outputs": [
    {
     "data": {
      "text/plain": [
       "tensor([5, 0, 4,  ..., 5, 6, 8])"
      ]
     },
     "execution_count": 7,
     "metadata": {},
     "output_type": "execute_result"
    }
   ],
   "source": [
    "train_data.targets"
   ]
  },
  {
   "cell_type": "code",
   "execution_count": 8,
   "id": "245fddab-5cb6-4faa-8b99-d5db4a7e436e",
   "metadata": {},
   "outputs": [],
   "source": [
    "from torch.utils.data import DataLoader\n",
    "loaders={\n",
    "    'train':DataLoader(train_data,batch_size=100,shuffle=True,num_workers=1),\n",
    "    'test':DataLoader(test_data,batch_size=100,shuffle=True,num_workers=1),\n",
    "    \n",
    "}"
   ]
  },
  {
   "cell_type": "code",
   "execution_count": 9,
   "id": "5235c48e-0467-4d9d-b704-5f3cba2401f6",
   "metadata": {},
   "outputs": [
    {
     "data": {
      "text/plain": [
       "{'train': <torch.utils.data.dataloader.DataLoader at 0x2a9e1ad0e50>,\n",
       " 'test': <torch.utils.data.dataloader.DataLoader at 0x2a9dffe2110>}"
      ]
     },
     "execution_count": 9,
     "metadata": {},
     "output_type": "execute_result"
    }
   ],
   "source": [
    "loaders"
   ]
  },
  {
   "cell_type": "code",
   "execution_count": 10,
   "id": "0f3aae5f-b854-42ff-831d-0bb3dd57e8e7",
   "metadata": {},
   "outputs": [],
   "source": [
    "import torch.nn as nn\n",
    "import torch.nn.functional as F\n",
    "import torch.optim as optim\n",
    "\n",
    "class CNN(nn.Module):\n",
    "    def __init__(self):\n",
    "        super(CNN,self).__init__()\n",
    "\n",
    "        self.conv1=nn.Conv2d(1,10,kernel_size=5)\n",
    "        self.conv2=nn.Conv2d(10,20,kernel_size=5)\n",
    "        self.conv2_drop=nn.Dropout2d()\n",
    "        self.fc1=nn.Linear(320,50)\n",
    "        self.fc2=nn.Linear(50,10)\n",
    "\n",
    "    def forward(self,x):\n",
    "        x=F.relu(F.max_pool2d(self.conv1(x),2))\n",
    "        x=F.relu(F.max_pool2d(self.conv2_drop(self.conv2(x)),2))\n",
    "        x= x.view(-1,320)\n",
    "        x=F.relu(self.fc1(x))\n",
    "        x=F.dropout(x,training=self.training)\n",
    "        x=self.fc2(x)\n",
    "\n",
    "        return F.softmax(x)"
   ]
  },
  {
   "cell_type": "code",
   "execution_count": 12,
   "id": "564d0bfb-9b05-4115-b15d-4863bf1cf61a",
   "metadata": {},
   "outputs": [],
   "source": [
    "import torch\n",
    "\n",
    "device=torch.device('cuda' if torch.cuda.is_available() else 'cpu')\n",
    "\n",
    "model = CNN().to(device)\n",
    "optimizer = optim.Adam(model.parameters(),lr=0.001)\n",
    "loss_fn=nn.CrossEntropyLoss()\n",
    "def train(epoch):\n",
    "    model.train()\n",
    "    for batch_idx,(data,target) in enumerate(loaders['train']):\n",
    "        data,target=data.to(device),target.to(device)\n",
    "        optimizer.zero_grad()\n",
    "        output=model(data)\n",
    "        loss=loss_fn(output,target)\n",
    "        loss.backward()\n",
    "        optimizer.step()\n",
    "        if batch_idx % 20==0:\n",
    "            print(f\"Nitin's DigitsInk Train Epoch: {epoch} [{batch_idx * len(data)}/{len(loaders['train'].dataset)} ({100.*batch_idx/len(loaders['train']):.0f}%)]\\t{loss.item():.6f}\")\n",
    "\n",
    "def test():\n",
    "    model.eval()\n",
    "    test_loss=0\n",
    "    correct=0\n",
    "\n",
    "    with torch.no_grad():\n",
    "        for data, target in loaders['test']:\n",
    "            data, target = data.to(device),target.to(device)\n",
    "            output = model(data)\n",
    "            test_loss+=loss_fn(output,target).item()\n",
    "            pred=output.argmax(dim=1,keepdim=True)\n",
    "            correct+= pred.eq(target.view_as(pred)).sum().item()\n",
    "    test_loss /= len(loaders['test'].dataset)\n",
    "    print(f\"\\nNitin's DigitsInk Test set : Average Loss: {test_loss:.4f}, Accuracy {correct} / {len(loaders['test'].dataset)} ({100. *correct/ len(loaders['test'].dataset):.0f}%\\n)\")"
   ]
  },
  {
   "cell_type": "code",
   "execution_count": 13,
   "id": "f44263e9-95af-4001-818f-9b832da4b8a7",
   "metadata": {},
   "outputs": [
    {
     "name": "stderr",
     "output_type": "stream",
     "text": [
      "C:\\Users\\Nitin prajwal R\\AppData\\Local\\Temp\\ipykernel_3332\\4048452739.py:23: UserWarning: Implicit dimension choice for softmax has been deprecated. Change the call to include dim=X as an argument.\n",
      "  return F.softmax(x)\n"
     ]
    },
    {
     "name": "stdout",
     "output_type": "stream",
     "text": [
      "Nitin's DigitsInk Train Epoch: 1 [0/60000 (0%)]\t2.302614\n",
      "Nitin's DigitsInk Train Epoch: 1 [2000/60000 (3%)]\t2.289453\n",
      "Nitin's DigitsInk Train Epoch: 1 [4000/60000 (7%)]\t2.184783\n",
      "Nitin's DigitsInk Train Epoch: 1 [6000/60000 (10%)]\t2.066010\n",
      "Nitin's DigitsInk Train Epoch: 1 [8000/60000 (13%)]\t1.967364\n",
      "Nitin's DigitsInk Train Epoch: 1 [10000/60000 (17%)]\t1.961143\n",
      "Nitin's DigitsInk Train Epoch: 1 [12000/60000 (20%)]\t1.888791\n",
      "Nitin's DigitsInk Train Epoch: 1 [14000/60000 (23%)]\t1.833486\n",
      "Nitin's DigitsInk Train Epoch: 1 [16000/60000 (27%)]\t1.765678\n",
      "Nitin's DigitsInk Train Epoch: 1 [18000/60000 (30%)]\t1.804860\n",
      "Nitin's DigitsInk Train Epoch: 1 [20000/60000 (33%)]\t1.808532\n",
      "Nitin's DigitsInk Train Epoch: 1 [22000/60000 (37%)]\t1.745600\n",
      "Nitin's DigitsInk Train Epoch: 1 [24000/60000 (40%)]\t1.717026\n",
      "Nitin's DigitsInk Train Epoch: 1 [26000/60000 (43%)]\t1.666589\n",
      "Nitin's DigitsInk Train Epoch: 1 [28000/60000 (47%)]\t1.693915\n",
      "Nitin's DigitsInk Train Epoch: 1 [30000/60000 (50%)]\t1.665524\n",
      "Nitin's DigitsInk Train Epoch: 1 [32000/60000 (53%)]\t1.663336\n",
      "Nitin's DigitsInk Train Epoch: 1 [34000/60000 (57%)]\t1.665691\n",
      "Nitin's DigitsInk Train Epoch: 1 [36000/60000 (60%)]\t1.660541\n",
      "Nitin's DigitsInk Train Epoch: 1 [38000/60000 (63%)]\t1.632156\n",
      "Nitin's DigitsInk Train Epoch: 1 [40000/60000 (67%)]\t1.641700\n",
      "Nitin's DigitsInk Train Epoch: 1 [42000/60000 (70%)]\t1.596830\n",
      "Nitin's DigitsInk Train Epoch: 1 [44000/60000 (73%)]\t1.595738\n",
      "Nitin's DigitsInk Train Epoch: 1 [46000/60000 (77%)]\t1.648270\n",
      "Nitin's DigitsInk Train Epoch: 1 [48000/60000 (80%)]\t1.568289\n",
      "Nitin's DigitsInk Train Epoch: 1 [50000/60000 (83%)]\t1.625318\n",
      "Nitin's DigitsInk Train Epoch: 1 [52000/60000 (87%)]\t1.611967\n",
      "Nitin's DigitsInk Train Epoch: 1 [54000/60000 (90%)]\t1.646937\n",
      "Nitin's DigitsInk Train Epoch: 1 [56000/60000 (93%)]\t1.624098\n",
      "Nitin's DigitsInk Train Epoch: 1 [58000/60000 (97%)]\t1.594596\n",
      "\n",
      "Nitin's DigitsInk Test set : Average Loss: 0.0154, Accuracy 9283 / 10000 (93%\n",
      ")\n",
      "Nitin's DigitsInk Train Epoch: 2 [0/60000 (0%)]\t1.619185\n",
      "Nitin's DigitsInk Train Epoch: 2 [2000/60000 (3%)]\t1.606828\n",
      "Nitin's DigitsInk Train Epoch: 2 [4000/60000 (7%)]\t1.586273\n",
      "Nitin's DigitsInk Train Epoch: 2 [6000/60000 (10%)]\t1.615982\n",
      "Nitin's DigitsInk Train Epoch: 2 [8000/60000 (13%)]\t1.603660\n",
      "Nitin's DigitsInk Train Epoch: 2 [10000/60000 (17%)]\t1.581475\n",
      "Nitin's DigitsInk Train Epoch: 2 [12000/60000 (20%)]\t1.553143\n",
      "Nitin's DigitsInk Train Epoch: 2 [14000/60000 (23%)]\t1.636698\n",
      "Nitin's DigitsInk Train Epoch: 2 [16000/60000 (27%)]\t1.566594\n",
      "Nitin's DigitsInk Train Epoch: 2 [18000/60000 (30%)]\t1.578688\n",
      "Nitin's DigitsInk Train Epoch: 2 [20000/60000 (33%)]\t1.593128\n",
      "Nitin's DigitsInk Train Epoch: 2 [22000/60000 (37%)]\t1.617296\n",
      "Nitin's DigitsInk Train Epoch: 2 [24000/60000 (40%)]\t1.567910\n",
      "Nitin's DigitsInk Train Epoch: 2 [26000/60000 (43%)]\t1.570007\n",
      "Nitin's DigitsInk Train Epoch: 2 [28000/60000 (47%)]\t1.577724\n",
      "Nitin's DigitsInk Train Epoch: 2 [30000/60000 (50%)]\t1.613366\n",
      "Nitin's DigitsInk Train Epoch: 2 [32000/60000 (53%)]\t1.541619\n",
      "Nitin's DigitsInk Train Epoch: 2 [34000/60000 (57%)]\t1.639556\n",
      "Nitin's DigitsInk Train Epoch: 2 [36000/60000 (60%)]\t1.613521\n",
      "Nitin's DigitsInk Train Epoch: 2 [38000/60000 (63%)]\t1.607900\n",
      "Nitin's DigitsInk Train Epoch: 2 [40000/60000 (67%)]\t1.593034\n",
      "Nitin's DigitsInk Train Epoch: 2 [42000/60000 (70%)]\t1.586155\n",
      "Nitin's DigitsInk Train Epoch: 2 [44000/60000 (73%)]\t1.593739\n",
      "Nitin's DigitsInk Train Epoch: 2 [46000/60000 (77%)]\t1.568338\n",
      "Nitin's DigitsInk Train Epoch: 2 [48000/60000 (80%)]\t1.561095\n",
      "Nitin's DigitsInk Train Epoch: 2 [50000/60000 (83%)]\t1.612384\n",
      "Nitin's DigitsInk Train Epoch: 2 [52000/60000 (87%)]\t1.600534\n",
      "Nitin's DigitsInk Train Epoch: 2 [54000/60000 (90%)]\t1.601607\n",
      "Nitin's DigitsInk Train Epoch: 2 [56000/60000 (93%)]\t1.569128\n",
      "Nitin's DigitsInk Train Epoch: 2 [58000/60000 (97%)]\t1.629292\n",
      "\n",
      "Nitin's DigitsInk Test set : Average Loss: 0.0151, Accuracy 9481 / 10000 (95%\n",
      ")\n",
      "Nitin's DigitsInk Train Epoch: 3 [0/60000 (0%)]\t1.566378\n",
      "Nitin's DigitsInk Train Epoch: 3 [2000/60000 (3%)]\t1.637435\n",
      "Nitin's DigitsInk Train Epoch: 3 [4000/60000 (7%)]\t1.583782\n",
      "Nitin's DigitsInk Train Epoch: 3 [6000/60000 (10%)]\t1.581553\n",
      "Nitin's DigitsInk Train Epoch: 3 [8000/60000 (13%)]\t1.561608\n",
      "Nitin's DigitsInk Train Epoch: 3 [10000/60000 (17%)]\t1.546586\n",
      "Nitin's DigitsInk Train Epoch: 3 [12000/60000 (20%)]\t1.577696\n",
      "Nitin's DigitsInk Train Epoch: 3 [14000/60000 (23%)]\t1.557110\n",
      "Nitin's DigitsInk Train Epoch: 3 [16000/60000 (27%)]\t1.606373\n",
      "Nitin's DigitsInk Train Epoch: 3 [18000/60000 (30%)]\t1.581574\n",
      "Nitin's DigitsInk Train Epoch: 3 [20000/60000 (33%)]\t1.574024\n",
      "Nitin's DigitsInk Train Epoch: 3 [22000/60000 (37%)]\t1.597966\n",
      "Nitin's DigitsInk Train Epoch: 3 [24000/60000 (40%)]\t1.562494\n",
      "Nitin's DigitsInk Train Epoch: 3 [26000/60000 (43%)]\t1.570022\n",
      "Nitin's DigitsInk Train Epoch: 3 [28000/60000 (47%)]\t1.553027\n",
      "Nitin's DigitsInk Train Epoch: 3 [30000/60000 (50%)]\t1.562967\n",
      "Nitin's DigitsInk Train Epoch: 3 [32000/60000 (53%)]\t1.588874\n",
      "Nitin's DigitsInk Train Epoch: 3 [34000/60000 (57%)]\t1.580555\n",
      "Nitin's DigitsInk Train Epoch: 3 [36000/60000 (60%)]\t1.603294\n",
      "Nitin's DigitsInk Train Epoch: 3 [38000/60000 (63%)]\t1.569073\n",
      "Nitin's DigitsInk Train Epoch: 3 [40000/60000 (67%)]\t1.601590\n",
      "Nitin's DigitsInk Train Epoch: 3 [42000/60000 (70%)]\t1.521821\n",
      "Nitin's DigitsInk Train Epoch: 3 [44000/60000 (73%)]\t1.536447\n",
      "Nitin's DigitsInk Train Epoch: 3 [46000/60000 (77%)]\t1.594827\n",
      "Nitin's DigitsInk Train Epoch: 3 [48000/60000 (80%)]\t1.581789\n",
      "Nitin's DigitsInk Train Epoch: 3 [50000/60000 (83%)]\t1.550304\n",
      "Nitin's DigitsInk Train Epoch: 3 [52000/60000 (87%)]\t1.525639\n",
      "Nitin's DigitsInk Train Epoch: 3 [54000/60000 (90%)]\t1.609413\n",
      "Nitin's DigitsInk Train Epoch: 3 [56000/60000 (93%)]\t1.565502\n",
      "Nitin's DigitsInk Train Epoch: 3 [58000/60000 (97%)]\t1.554417\n",
      "\n",
      "Nitin's DigitsInk Test set : Average Loss: 0.0150, Accuracy 9590 / 10000 (96%\n",
      ")\n",
      "Nitin's DigitsInk Train Epoch: 4 [0/60000 (0%)]\t1.556345\n",
      "Nitin's DigitsInk Train Epoch: 4 [2000/60000 (3%)]\t1.583297\n",
      "Nitin's DigitsInk Train Epoch: 4 [4000/60000 (7%)]\t1.532573\n",
      "Nitin's DigitsInk Train Epoch: 4 [6000/60000 (10%)]\t1.556281\n",
      "Nitin's DigitsInk Train Epoch: 4 [8000/60000 (13%)]\t1.574496\n",
      "Nitin's DigitsInk Train Epoch: 4 [10000/60000 (17%)]\t1.495740\n",
      "Nitin's DigitsInk Train Epoch: 4 [12000/60000 (20%)]\t1.528787\n",
      "Nitin's DigitsInk Train Epoch: 4 [14000/60000 (23%)]\t1.541680\n",
      "Nitin's DigitsInk Train Epoch: 4 [16000/60000 (27%)]\t1.584383\n",
      "Nitin's DigitsInk Train Epoch: 4 [18000/60000 (30%)]\t1.546697\n",
      "Nitin's DigitsInk Train Epoch: 4 [20000/60000 (33%)]\t1.574879\n",
      "Nitin's DigitsInk Train Epoch: 4 [22000/60000 (37%)]\t1.582819\n",
      "Nitin's DigitsInk Train Epoch: 4 [24000/60000 (40%)]\t1.587456\n",
      "Nitin's DigitsInk Train Epoch: 4 [26000/60000 (43%)]\t1.577238\n",
      "Nitin's DigitsInk Train Epoch: 4 [28000/60000 (47%)]\t1.577275\n",
      "Nitin's DigitsInk Train Epoch: 4 [30000/60000 (50%)]\t1.571903\n",
      "Nitin's DigitsInk Train Epoch: 4 [32000/60000 (53%)]\t1.545321\n",
      "Nitin's DigitsInk Train Epoch: 4 [34000/60000 (57%)]\t1.513966\n",
      "Nitin's DigitsInk Train Epoch: 4 [36000/60000 (60%)]\t1.584286\n",
      "Nitin's DigitsInk Train Epoch: 4 [38000/60000 (63%)]\t1.541964\n",
      "Nitin's DigitsInk Train Epoch: 4 [40000/60000 (67%)]\t1.542936\n",
      "Nitin's DigitsInk Train Epoch: 4 [42000/60000 (70%)]\t1.533528\n",
      "Nitin's DigitsInk Train Epoch: 4 [44000/60000 (73%)]\t1.624534\n",
      "Nitin's DigitsInk Train Epoch: 4 [46000/60000 (77%)]\t1.522176\n",
      "Nitin's DigitsInk Train Epoch: 4 [48000/60000 (80%)]\t1.548614\n",
      "Nitin's DigitsInk Train Epoch: 4 [50000/60000 (83%)]\t1.571223\n",
      "Nitin's DigitsInk Train Epoch: 4 [52000/60000 (87%)]\t1.565467\n",
      "Nitin's DigitsInk Train Epoch: 4 [54000/60000 (90%)]\t1.540010\n",
      "Nitin's DigitsInk Train Epoch: 4 [56000/60000 (93%)]\t1.542009\n",
      "Nitin's DigitsInk Train Epoch: 4 [58000/60000 (97%)]\t1.593316\n",
      "\n",
      "Nitin's DigitsInk Test set : Average Loss: 0.0150, Accuracy 9648 / 10000 (96%\n",
      ")\n",
      "Nitin's DigitsInk Train Epoch: 5 [0/60000 (0%)]\t1.560644\n",
      "Nitin's DigitsInk Train Epoch: 5 [2000/60000 (3%)]\t1.598349\n",
      "Nitin's DigitsInk Train Epoch: 5 [4000/60000 (7%)]\t1.609239\n",
      "Nitin's DigitsInk Train Epoch: 5 [6000/60000 (10%)]\t1.504931\n",
      "Nitin's DigitsInk Train Epoch: 5 [8000/60000 (13%)]\t1.540825\n",
      "Nitin's DigitsInk Train Epoch: 5 [10000/60000 (17%)]\t1.525011\n",
      "Nitin's DigitsInk Train Epoch: 5 [12000/60000 (20%)]\t1.534436\n",
      "Nitin's DigitsInk Train Epoch: 5 [14000/60000 (23%)]\t1.527101\n",
      "Nitin's DigitsInk Train Epoch: 5 [16000/60000 (27%)]\t1.530257\n",
      "Nitin's DigitsInk Train Epoch: 5 [18000/60000 (30%)]\t1.539281\n",
      "Nitin's DigitsInk Train Epoch: 5 [20000/60000 (33%)]\t1.560417\n",
      "Nitin's DigitsInk Train Epoch: 5 [22000/60000 (37%)]\t1.525004\n",
      "Nitin's DigitsInk Train Epoch: 5 [24000/60000 (40%)]\t1.564901\n",
      "Nitin's DigitsInk Train Epoch: 5 [26000/60000 (43%)]\t1.565793\n",
      "Nitin's DigitsInk Train Epoch: 5 [28000/60000 (47%)]\t1.543227\n",
      "Nitin's DigitsInk Train Epoch: 5 [30000/60000 (50%)]\t1.549102\n",
      "Nitin's DigitsInk Train Epoch: 5 [32000/60000 (53%)]\t1.565749\n",
      "Nitin's DigitsInk Train Epoch: 5 [34000/60000 (57%)]\t1.514463\n",
      "Nitin's DigitsInk Train Epoch: 5 [36000/60000 (60%)]\t1.534758\n",
      "Nitin's DigitsInk Train Epoch: 5 [38000/60000 (63%)]\t1.581649\n",
      "Nitin's DigitsInk Train Epoch: 5 [40000/60000 (67%)]\t1.607828\n",
      "Nitin's DigitsInk Train Epoch: 5 [42000/60000 (70%)]\t1.581337\n",
      "Nitin's DigitsInk Train Epoch: 5 [44000/60000 (73%)]\t1.490850\n",
      "Nitin's DigitsInk Train Epoch: 5 [46000/60000 (77%)]\t1.530216\n",
      "Nitin's DigitsInk Train Epoch: 5 [48000/60000 (80%)]\t1.543617\n",
      "Nitin's DigitsInk Train Epoch: 5 [50000/60000 (83%)]\t1.529841\n",
      "Nitin's DigitsInk Train Epoch: 5 [52000/60000 (87%)]\t1.623972\n",
      "Nitin's DigitsInk Train Epoch: 5 [54000/60000 (90%)]\t1.572046\n",
      "Nitin's DigitsInk Train Epoch: 5 [56000/60000 (93%)]\t1.586845\n",
      "Nitin's DigitsInk Train Epoch: 5 [58000/60000 (97%)]\t1.511226\n",
      "\n",
      "Nitin's DigitsInk Test set : Average Loss: 0.0149, Accuracy 9671 / 10000 (97%\n",
      ")\n",
      "Nitin's DigitsInk Train Epoch: 6 [0/60000 (0%)]\t1.519011\n",
      "Nitin's DigitsInk Train Epoch: 6 [2000/60000 (3%)]\t1.559952\n",
      "Nitin's DigitsInk Train Epoch: 6 [4000/60000 (7%)]\t1.499012\n",
      "Nitin's DigitsInk Train Epoch: 6 [6000/60000 (10%)]\t1.530855\n",
      "Nitin's DigitsInk Train Epoch: 6 [8000/60000 (13%)]\t1.554809\n",
      "Nitin's DigitsInk Train Epoch: 6 [10000/60000 (17%)]\t1.533715\n",
      "Nitin's DigitsInk Train Epoch: 6 [12000/60000 (20%)]\t1.562332\n",
      "Nitin's DigitsInk Train Epoch: 6 [14000/60000 (23%)]\t1.600644\n",
      "Nitin's DigitsInk Train Epoch: 6 [16000/60000 (27%)]\t1.512605\n",
      "Nitin's DigitsInk Train Epoch: 6 [18000/60000 (30%)]\t1.586039\n",
      "Nitin's DigitsInk Train Epoch: 6 [20000/60000 (33%)]\t1.553746\n",
      "Nitin's DigitsInk Train Epoch: 6 [22000/60000 (37%)]\t1.539458\n",
      "Nitin's DigitsInk Train Epoch: 6 [24000/60000 (40%)]\t1.495101\n",
      "Nitin's DigitsInk Train Epoch: 6 [26000/60000 (43%)]\t1.554203\n",
      "Nitin's DigitsInk Train Epoch: 6 [28000/60000 (47%)]\t1.538090\n",
      "Nitin's DigitsInk Train Epoch: 6 [30000/60000 (50%)]\t1.570791\n",
      "Nitin's DigitsInk Train Epoch: 6 [32000/60000 (53%)]\t1.548699\n",
      "Nitin's DigitsInk Train Epoch: 6 [34000/60000 (57%)]\t1.538354\n",
      "Nitin's DigitsInk Train Epoch: 6 [36000/60000 (60%)]\t1.507921\n",
      "Nitin's DigitsInk Train Epoch: 6 [38000/60000 (63%)]\t1.536906\n",
      "Nitin's DigitsInk Train Epoch: 6 [40000/60000 (67%)]\t1.506581\n",
      "Nitin's DigitsInk Train Epoch: 6 [42000/60000 (70%)]\t1.550393\n",
      "Nitin's DigitsInk Train Epoch: 6 [44000/60000 (73%)]\t1.583547\n",
      "Nitin's DigitsInk Train Epoch: 6 [46000/60000 (77%)]\t1.544587\n",
      "Nitin's DigitsInk Train Epoch: 6 [48000/60000 (80%)]\t1.540379\n",
      "Nitin's DigitsInk Train Epoch: 6 [50000/60000 (83%)]\t1.545716\n",
      "Nitin's DigitsInk Train Epoch: 6 [52000/60000 (87%)]\t1.512190\n",
      "Nitin's DigitsInk Train Epoch: 6 [54000/60000 (90%)]\t1.566617\n",
      "Nitin's DigitsInk Train Epoch: 6 [56000/60000 (93%)]\t1.543022\n",
      "Nitin's DigitsInk Train Epoch: 6 [58000/60000 (97%)]\t1.604208\n",
      "\n",
      "Nitin's DigitsInk Test set : Average Loss: 0.0149, Accuracy 9695 / 10000 (97%\n",
      ")\n",
      "Nitin's DigitsInk Train Epoch: 7 [0/60000 (0%)]\t1.600744\n",
      "Nitin's DigitsInk Train Epoch: 7 [2000/60000 (3%)]\t1.551897\n",
      "Nitin's DigitsInk Train Epoch: 7 [4000/60000 (7%)]\t1.502605\n",
      "Nitin's DigitsInk Train Epoch: 7 [6000/60000 (10%)]\t1.494368\n",
      "Nitin's DigitsInk Train Epoch: 7 [8000/60000 (13%)]\t1.530121\n",
      "Nitin's DigitsInk Train Epoch: 7 [10000/60000 (17%)]\t1.564455\n",
      "Nitin's DigitsInk Train Epoch: 7 [12000/60000 (20%)]\t1.562784\n",
      "Nitin's DigitsInk Train Epoch: 7 [14000/60000 (23%)]\t1.546903\n",
      "Nitin's DigitsInk Train Epoch: 7 [16000/60000 (27%)]\t1.522928\n",
      "Nitin's DigitsInk Train Epoch: 7 [18000/60000 (30%)]\t1.637856\n",
      "Nitin's DigitsInk Train Epoch: 7 [20000/60000 (33%)]\t1.572137\n",
      "Nitin's DigitsInk Train Epoch: 7 [22000/60000 (37%)]\t1.529964\n",
      "Nitin's DigitsInk Train Epoch: 7 [24000/60000 (40%)]\t1.560036\n",
      "Nitin's DigitsInk Train Epoch: 7 [26000/60000 (43%)]\t1.558644\n",
      "Nitin's DigitsInk Train Epoch: 7 [28000/60000 (47%)]\t1.534214\n",
      "Nitin's DigitsInk Train Epoch: 7 [30000/60000 (50%)]\t1.494587\n",
      "Nitin's DigitsInk Train Epoch: 7 [32000/60000 (53%)]\t1.507065\n",
      "Nitin's DigitsInk Train Epoch: 7 [34000/60000 (57%)]\t1.594333\n",
      "Nitin's DigitsInk Train Epoch: 7 [36000/60000 (60%)]\t1.532964\n",
      "Nitin's DigitsInk Train Epoch: 7 [38000/60000 (63%)]\t1.536368\n",
      "Nitin's DigitsInk Train Epoch: 7 [40000/60000 (67%)]\t1.529569\n",
      "Nitin's DigitsInk Train Epoch: 7 [42000/60000 (70%)]\t1.522354\n",
      "Nitin's DigitsInk Train Epoch: 7 [44000/60000 (73%)]\t1.556458\n",
      "Nitin's DigitsInk Train Epoch: 7 [46000/60000 (77%)]\t1.529478\n",
      "Nitin's DigitsInk Train Epoch: 7 [48000/60000 (80%)]\t1.542683\n",
      "Nitin's DigitsInk Train Epoch: 7 [50000/60000 (83%)]\t1.538588\n",
      "Nitin's DigitsInk Train Epoch: 7 [52000/60000 (87%)]\t1.535951\n",
      "Nitin's DigitsInk Train Epoch: 7 [54000/60000 (90%)]\t1.512209\n",
      "Nitin's DigitsInk Train Epoch: 7 [56000/60000 (93%)]\t1.520413\n",
      "Nitin's DigitsInk Train Epoch: 7 [58000/60000 (97%)]\t1.523812\n",
      "\n",
      "Nitin's DigitsInk Test set : Average Loss: 0.0149, Accuracy 9688 / 10000 (97%\n",
      ")\n",
      "Nitin's DigitsInk Train Epoch: 8 [0/60000 (0%)]\t1.556703\n",
      "Nitin's DigitsInk Train Epoch: 8 [2000/60000 (3%)]\t1.549647\n",
      "Nitin's DigitsInk Train Epoch: 8 [4000/60000 (7%)]\t1.564718\n",
      "Nitin's DigitsInk Train Epoch: 8 [6000/60000 (10%)]\t1.556429\n",
      "Nitin's DigitsInk Train Epoch: 8 [8000/60000 (13%)]\t1.509490\n",
      "Nitin's DigitsInk Train Epoch: 8 [10000/60000 (17%)]\t1.517295\n",
      "Nitin's DigitsInk Train Epoch: 8 [12000/60000 (20%)]\t1.534476\n",
      "Nitin's DigitsInk Train Epoch: 8 [14000/60000 (23%)]\t1.501897\n",
      "Nitin's DigitsInk Train Epoch: 8 [16000/60000 (27%)]\t1.528849\n",
      "Nitin's DigitsInk Train Epoch: 8 [18000/60000 (30%)]\t1.528923\n",
      "Nitin's DigitsInk Train Epoch: 8 [20000/60000 (33%)]\t1.511153\n",
      "Nitin's DigitsInk Train Epoch: 8 [22000/60000 (37%)]\t1.516320\n",
      "Nitin's DigitsInk Train Epoch: 8 [24000/60000 (40%)]\t1.534358\n",
      "Nitin's DigitsInk Train Epoch: 8 [26000/60000 (43%)]\t1.596747\n",
      "Nitin's DigitsInk Train Epoch: 8 [28000/60000 (47%)]\t1.547700\n",
      "Nitin's DigitsInk Train Epoch: 8 [30000/60000 (50%)]\t1.534328\n",
      "Nitin's DigitsInk Train Epoch: 8 [32000/60000 (53%)]\t1.499613\n",
      "Nitin's DigitsInk Train Epoch: 8 [34000/60000 (57%)]\t1.566055\n",
      "Nitin's DigitsInk Train Epoch: 8 [36000/60000 (60%)]\t1.515410\n",
      "Nitin's DigitsInk Train Epoch: 8 [38000/60000 (63%)]\t1.533302\n",
      "Nitin's DigitsInk Train Epoch: 8 [40000/60000 (67%)]\t1.540765\n",
      "Nitin's DigitsInk Train Epoch: 8 [42000/60000 (70%)]\t1.521727\n",
      "Nitin's DigitsInk Train Epoch: 8 [44000/60000 (73%)]\t1.557775\n",
      "Nitin's DigitsInk Train Epoch: 8 [46000/60000 (77%)]\t1.548019\n",
      "Nitin's DigitsInk Train Epoch: 8 [48000/60000 (80%)]\t1.543064\n",
      "Nitin's DigitsInk Train Epoch: 8 [50000/60000 (83%)]\t1.507595\n",
      "Nitin's DigitsInk Train Epoch: 8 [52000/60000 (87%)]\t1.561475\n",
      "Nitin's DigitsInk Train Epoch: 8 [54000/60000 (90%)]\t1.515276\n",
      "Nitin's DigitsInk Train Epoch: 8 [56000/60000 (93%)]\t1.551152\n",
      "Nitin's DigitsInk Train Epoch: 8 [58000/60000 (97%)]\t1.530497\n",
      "\n",
      "Nitin's DigitsInk Test set : Average Loss: 0.0149, Accuracy 9705 / 10000 (97%\n",
      ")\n",
      "Nitin's DigitsInk Train Epoch: 9 [0/60000 (0%)]\t1.530097\n",
      "Nitin's DigitsInk Train Epoch: 9 [2000/60000 (3%)]\t1.532733\n",
      "Nitin's DigitsInk Train Epoch: 9 [4000/60000 (7%)]\t1.515210\n",
      "Nitin's DigitsInk Train Epoch: 9 [6000/60000 (10%)]\t1.524104\n",
      "Nitin's DigitsInk Train Epoch: 9 [8000/60000 (13%)]\t1.539651\n",
      "Nitin's DigitsInk Train Epoch: 9 [10000/60000 (17%)]\t1.503274\n",
      "Nitin's DigitsInk Train Epoch: 9 [12000/60000 (20%)]\t1.519314\n",
      "Nitin's DigitsInk Train Epoch: 9 [14000/60000 (23%)]\t1.479795\n",
      "Nitin's DigitsInk Train Epoch: 9 [16000/60000 (27%)]\t1.539396\n",
      "Nitin's DigitsInk Train Epoch: 9 [18000/60000 (30%)]\t1.523112\n",
      "Nitin's DigitsInk Train Epoch: 9 [20000/60000 (33%)]\t1.486820\n",
      "Nitin's DigitsInk Train Epoch: 9 [22000/60000 (37%)]\t1.589280\n",
      "Nitin's DigitsInk Train Epoch: 9 [24000/60000 (40%)]\t1.548251\n",
      "Nitin's DigitsInk Train Epoch: 9 [26000/60000 (43%)]\t1.511040\n",
      "Nitin's DigitsInk Train Epoch: 9 [28000/60000 (47%)]\t1.555359\n",
      "Nitin's DigitsInk Train Epoch: 9 [30000/60000 (50%)]\t1.559076\n",
      "Nitin's DigitsInk Train Epoch: 9 [32000/60000 (53%)]\t1.537185\n",
      "Nitin's DigitsInk Train Epoch: 9 [34000/60000 (57%)]\t1.537185\n",
      "Nitin's DigitsInk Train Epoch: 9 [36000/60000 (60%)]\t1.539141\n",
      "Nitin's DigitsInk Train Epoch: 9 [38000/60000 (63%)]\t1.541682\n",
      "Nitin's DigitsInk Train Epoch: 9 [40000/60000 (67%)]\t1.539766\n",
      "Nitin's DigitsInk Train Epoch: 9 [42000/60000 (70%)]\t1.551378\n",
      "Nitin's DigitsInk Train Epoch: 9 [44000/60000 (73%)]\t1.514562\n",
      "Nitin's DigitsInk Train Epoch: 9 [46000/60000 (77%)]\t1.537440\n",
      "Nitin's DigitsInk Train Epoch: 9 [48000/60000 (80%)]\t1.539106\n",
      "Nitin's DigitsInk Train Epoch: 9 [50000/60000 (83%)]\t1.498039\n",
      "Nitin's DigitsInk Train Epoch: 9 [52000/60000 (87%)]\t1.523681\n",
      "Nitin's DigitsInk Train Epoch: 9 [54000/60000 (90%)]\t1.506954\n",
      "Nitin's DigitsInk Train Epoch: 9 [56000/60000 (93%)]\t1.472418\n",
      "Nitin's DigitsInk Train Epoch: 9 [58000/60000 (97%)]\t1.509500\n",
      "\n",
      "Nitin's DigitsInk Test set : Average Loss: 0.0149, Accuracy 9721 / 10000 (97%\n",
      ")\n",
      "Nitin's DigitsInk Train Epoch: 10 [0/60000 (0%)]\t1.526568\n",
      "Nitin's DigitsInk Train Epoch: 10 [2000/60000 (3%)]\t1.482977\n",
      "Nitin's DigitsInk Train Epoch: 10 [4000/60000 (7%)]\t1.560932\n",
      "Nitin's DigitsInk Train Epoch: 10 [6000/60000 (10%)]\t1.499032\n",
      "Nitin's DigitsInk Train Epoch: 10 [8000/60000 (13%)]\t1.549479\n",
      "Nitin's DigitsInk Train Epoch: 10 [10000/60000 (17%)]\t1.539160\n",
      "Nitin's DigitsInk Train Epoch: 10 [12000/60000 (20%)]\t1.504294\n",
      "Nitin's DigitsInk Train Epoch: 10 [14000/60000 (23%)]\t1.542357\n",
      "Nitin's DigitsInk Train Epoch: 10 [16000/60000 (27%)]\t1.500937\n",
      "Nitin's DigitsInk Train Epoch: 10 [18000/60000 (30%)]\t1.502685\n",
      "Nitin's DigitsInk Train Epoch: 10 [20000/60000 (33%)]\t1.538535\n",
      "Nitin's DigitsInk Train Epoch: 10 [22000/60000 (37%)]\t1.544405\n",
      "Nitin's DigitsInk Train Epoch: 10 [24000/60000 (40%)]\t1.543422\n",
      "Nitin's DigitsInk Train Epoch: 10 [26000/60000 (43%)]\t1.501109\n",
      "Nitin's DigitsInk Train Epoch: 10 [28000/60000 (47%)]\t1.563874\n",
      "Nitin's DigitsInk Train Epoch: 10 [30000/60000 (50%)]\t1.535221\n",
      "Nitin's DigitsInk Train Epoch: 10 [32000/60000 (53%)]\t1.499282\n",
      "Nitin's DigitsInk Train Epoch: 10 [34000/60000 (57%)]\t1.507402\n",
      "Nitin's DigitsInk Train Epoch: 10 [36000/60000 (60%)]\t1.515585\n",
      "Nitin's DigitsInk Train Epoch: 10 [38000/60000 (63%)]\t1.549971\n",
      "Nitin's DigitsInk Train Epoch: 10 [40000/60000 (67%)]\t1.552487\n",
      "Nitin's DigitsInk Train Epoch: 10 [42000/60000 (70%)]\t1.539630\n",
      "Nitin's DigitsInk Train Epoch: 10 [44000/60000 (73%)]\t1.498276\n",
      "Nitin's DigitsInk Train Epoch: 10 [46000/60000 (77%)]\t1.528539\n",
      "Nitin's DigitsInk Train Epoch: 10 [48000/60000 (80%)]\t1.536822\n",
      "Nitin's DigitsInk Train Epoch: 10 [50000/60000 (83%)]\t1.497175\n",
      "Nitin's DigitsInk Train Epoch: 10 [52000/60000 (87%)]\t1.536848\n",
      "Nitin's DigitsInk Train Epoch: 10 [54000/60000 (90%)]\t1.533483\n",
      "Nitin's DigitsInk Train Epoch: 10 [56000/60000 (93%)]\t1.539316\n",
      "Nitin's DigitsInk Train Epoch: 10 [58000/60000 (97%)]\t1.509155\n",
      "\n",
      "Nitin's DigitsInk Test set : Average Loss: 0.0149, Accuracy 9733 / 10000 (97%\n",
      ")\n"
     ]
    }
   ],
   "source": [
    "for epoch in range(1,11):\n",
    "    train(epoch)\n",
    "    test()"
   ]
  },
  {
   "cell_type": "code",
   "execution_count": 15,
   "id": "563acb7e-6bfd-441e-957e-bec36f21ebd2",
   "metadata": {},
   "outputs": [
    {
     "data": {
      "text/plain": [
       "device(type='cpu')"
      ]
     },
     "execution_count": 15,
     "metadata": {},
     "output_type": "execute_result"
    }
   ],
   "source": [
    "device"
   ]
  },
  {
   "cell_type": "code",
   "execution_count": 24,
   "id": "d3619e35-e01f-4a99-99dc-c18a9c466d83",
   "metadata": {},
   "outputs": [
    {
     "name": "stderr",
     "output_type": "stream",
     "text": [
      "C:\\Users\\Nitin prajwal R\\AppData\\Local\\Temp\\ipykernel_3332\\4048452739.py:23: UserWarning: Implicit dimension choice for softmax has been deprecated. Change the call to include dim=X as an argument.\n",
      "  return F.softmax(x)\n"
     ]
    },
    {
     "name": "stdout",
     "output_type": "stream",
     "text": [
      "Nitin's DigitsInk Prediction: 1\n"
     ]
    },
    {
     "data": {
      "image/png": "[encoded data removed]",
      "text/plain": [
       "<Figure size 640x480 with 1 Axes>"
      ]
     },
     "metadata": {},
     "output_type": "display_data"
    }
   ],
   "source": [
    "import matplotlib.pyplot as plt\n",
    "model.eval()\n",
    "data,target = test_data[2]\n",
    "data=data.unsqueeze(0).to(device)\n",
    "output=model(data)\n",
    "prediction=output.argmax(dim=1, keepdim=True).item()\n",
    "print(f\"Nitin's DigitsInk Prediction: {prediction}\")\n",
    "image = data.squeeze(0).squeeze(0).cpu().numpy()\n",
    "plt.imshow(image,cmap='gray')\n",
    "plt.show()"
   ]
  }
 ],
 "metadata": {
  "kernelspec": {
   "display_name": "Python 3 (ipykernel)",
   "language": "python",
   "name": "python3"
  },
  "language_info": {
   "codemirror_mode": {
    "name": "ipython",
    "version": 3
   },
   "file_extension": ".py",
   "mimetype": "text/x-python",
   "name": "python",
   "nbconvert_exporter": "python",
   "pygments_lexer": "ipython3",
   "version": "3.12.0"
  }
 },
 "nbformat": 4,
 "nbformat_minor": 5
}
